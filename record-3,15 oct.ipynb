{
 "cells": [
  {
   "cell_type": "markdown",
   "id": "c6fdb09b",
   "metadata": {},
   "source": [
    "1.Changing the order of letters of string"
   ]
  },
  {
   "cell_type": "code",
   "execution_count": 1,
   "id": "afd3a902",
   "metadata": {},
   "outputs": [
    {
     "name": "stdout",
     "output_type": "stream",
     "text": [
      "Enter a String : python\n",
      "The new string is : nythop\n"
     ]
    }
   ],
   "source": [
    "s=str(input(\"Enter a String : \"))\n",
    "a=s[0]\n",
    "b=s[-1]\n",
    "c=b+s[1:-1]+a\n",
    "print(\"The new string is :\",c)"
   ]
  },
  {
   "cell_type": "markdown",
   "id": "b28ca1e3",
   "metadata": {},
   "source": [
    "2.To get a new string from two strings and swap first two characters"
   ]
  },
  {
   "cell_type": "code",
   "execution_count": 2,
   "id": "8174f27f",
   "metadata": {},
   "outputs": [
    {
     "name": "stdout",
     "output_type": "stream",
     "text": [
      "Enter first String : hello\n",
      "Enter second String : python\n",
      "Result of two string is :  hello python\n",
      "result is : pyllo hethon\n"
     ]
    }
   ],
   "source": [
    "s1=str(input(\"Enter first String : \"))\n",
    "s2=str(input(\"Enter second String : \"))\n",
    "print(\"Result of two string is : \",s1,s2)\n",
    "a=s1[0:2]\n",
    "b=s2[0:2]\n",
    "s3=b+s1[2:]\n",
    "s4=a+s2[2:]\n",
    "print(\"result is :\",s3,s4)"
   ]
  },
  {
   "cell_type": "markdown",
   "id": "5bfc15d7",
   "metadata": {},
   "source": [
    "3.Replacing letters in string"
   ]
  },
  {
   "cell_type": "code",
   "execution_count": 3,
   "id": "e8103ed2",
   "metadata": {},
   "outputs": [
    {
     "name": "stdout",
     "output_type": "stream",
     "text": [
      "Enter a string : onion\n",
      "new string is :  oni$n\n"
     ]
    }
   ],
   "source": [
    "s=str(input(\"Enter a string : \"))\n",
    "a=s[0]\n",
    "b=s[1:]\n",
    "c=b.replace(a,\"$\")\n",
    "ns=s[0]+c\n",
    "print(\"new string is : \",ns)\n"
   ]
  },
  {
   "cell_type": "markdown",
   "id": "4abee64b",
   "metadata": {},
   "source": [
    "4.Print first and last color"
   ]
  },
  {
   "cell_type": "code",
   "execution_count": 1,
   "id": "f55420af",
   "metadata": {},
   "outputs": [
    {
     "name": "stdout",
     "output_type": "stream",
     "text": [
      "Enter Colours : black,yellow,red,white\n",
      "First colour is : black\n",
      "Last colour is : white\n"
     ]
    }
   ],
   "source": [
    "c=str(input(\"Enter Colours : \"))\n",
    "a=c.split(\",\")\n",
    "print(\"First colour is :\",a[0])\n",
    "print(\"Last colour is :\",a[-1])"
   ]
  },
  {
   "cell_type": "markdown",
   "id": "f8ca7ae9",
   "metadata": {},
   "source": [
    "5.Print the extension of file"
   ]
  },
  {
   "cell_type": "code",
   "execution_count": 2,
   "id": "73dd3eff",
   "metadata": {},
   "outputs": [
    {
     "name": "stdout",
     "output_type": "stream",
     "text": [
      "Enter name : aswin.html\n",
      "Extension of name is : html\n"
     ]
    }
   ],
   "source": [
    "a=str(input(\"Enter name : \"))\n",
    "p=a.split(\".\")\n",
    "print(\"Extension of name is :\",p[-1])"
   ]
  },
  {
   "cell_type": "markdown",
   "id": "16462876",
   "metadata": {},
   "source": [
    "6.3rd element from last of tuple"
   ]
  },
  {
   "cell_type": "code",
   "execution_count": 1,
   "id": "b8eedc0c",
   "metadata": {},
   "outputs": [
    {
     "name": "stdout",
     "output_type": "stream",
     "text": [
      "Enter number : 10,20,30,40,50,60\n",
      "tuple is : ('10', '20', '30', '40', '50', '60')\n",
      "Third element is : 30\n",
      "third element form last : 40\n"
     ]
    }
   ],
   "source": [
    "t=tuple(input(\"Enter number : \").split(\",\"))\n",
    "print(\"tuple is :\",t)\n",
    "print(\"Third element is :\",t[2])\n",
    "print(\"third element form last :\",t[-3])"
   ]
  },
  {
   "cell_type": "markdown",
   "id": "d131c585",
   "metadata": {},
   "source": [
    "7.To print set-1 colour not contained in set-2 colour"
   ]
  },
  {
   "cell_type": "code",
   "execution_count": 1,
   "id": "debb9716",
   "metadata": {},
   "outputs": [
    {
     "name": "stdout",
     "output_type": "stream",
     "text": [
      "Enter colours in set-1 : black,yellow,white\n",
      "Enter colours in set-2 : yellow,green\n",
      "Colour in set-1 not in set-2 :  {'black', 'white'}\n"
     ]
    }
   ],
   "source": [
    "s1=set(input(\"Enter colours in set-1 : \").split(\",\"))\n",
    "s2=set(input(\"Enter colours in set-2 : \").split(\",\"))\n",
    "diff=s1-s2\n",
    "print(\"Colour in set-1 not in set-2 : \",f\"{diff}\")"
   ]
  },
  {
   "cell_type": "markdown",
   "id": "23002f05",
   "metadata": {},
   "source": [
    "8.Sort Ascending and Descending order"
   ]
  },
  {
   "cell_type": "code",
   "execution_count": 4,
   "id": "aebf5616",
   "metadata": {},
   "outputs": [
    {
     "name": "stdout",
     "output_type": "stream",
     "text": [
      "Enter the name : aswin,roshan,adil,jaseem,ajay\n",
      "Enter Roll no : 2,5,3,4,1\n",
      "Dict : {'2': 'aswin', '5': 'roshan', '3': 'adil', '4': 'jaseem', '1': 'ajay'}\n",
      "Ascendig order :  {'1': 'ajay', '2': 'aswin', '3': 'adil', '4': 'jaseem', '5': 'roshan'}\n",
      "Descending order :  {'5': 'roshan', '4': 'jaseem', '3': 'adil', '2': 'aswin', '1': 'ajay'}\n"
     ]
    }
   ],
   "source": [
    "n=input(\"Enter the name : \").split(\",\")\n",
    "r=input(\"Enter Roll no : \").split(\",\")\n",
    "d={r[0]:n[0],r[1]:n[1],r[2]:n[2],r[3]:n[3],r[4]:n[4]}\n",
    "print(\"Dict :\",d)\n",
    "e=dict(sorted(d.items(),reverse=False))\n",
    "s=dict(sorted(d.items(),reverse=True))\n",
    "print(\"Ascendig order : \",e)\n",
    "print(\"Descending order : \",s)"
   ]
  },
  {
   "cell_type": "markdown",
   "id": "73dc781a",
   "metadata": {},
   "source": [
    "9.Merge two Dictionaries"
   ]
  },
  {
   "cell_type": "code",
   "execution_count": 5,
   "id": "79ab76c6",
   "metadata": {},
   "outputs": [
    {
     "name": "stdout",
     "output_type": "stream",
     "text": [
      "Enter name of 3 students : Aswin\n",
      "Enter name of 2nd students : roshan\n",
      "Enter name of 3rd students : jaseem\n",
      "First dict is : {'1': 'Aswin', '2': 'roshan', '3': 'jaseem'}\n",
      "Enter name of 1st students : adil\n",
      "Enter name of 2nd students : ajay\n",
      "Second dict is : {'4': 'adil', '5': 'ajay'}\n",
      "merged dict : {'1': 'Aswin', '2': 'roshan', '3': 'jaseem', '4': 'adil', '5': 'ajay'}\n"
     ]
    }
   ],
   "source": [
    "d1={}\n",
    "a=input(\"Enter name of 3 students : \")\n",
    "b=input(\"Enter name of 2nd students : \")\n",
    "c=input(\"Enter name of 3rd students : \")\n",
    "d1 ['1']=a\n",
    "d1 ['2']=b\n",
    "d1 ['3']=c\n",
    "print(\"First dict is :\",d1)\n",
    "\n",
    "d2={}\n",
    "c=input(\"Enter name of 1st students : \")\n",
    "d=input(\"Enter name of 2nd students : \")\n",
    "d2 ['4']=c\n",
    "d2 ['5']=d\n",
    "print(\"Second dict is :\",d2)\n",
    "\n",
    "d1.update(d2)\n",
    "print(\"merged dict :\",d1)"
   ]
  },
  {
   "cell_type": "markdown",
   "id": "6480014c",
   "metadata": {},
   "source": [
    "10.Print all even numbers(1-25)and calculate sum\n"
   ]
  },
  {
   "cell_type": "code",
   "execution_count": 6,
   "id": "3449e0f0",
   "metadata": {},
   "outputs": [
    {
     "name": "stdout",
     "output_type": "stream",
     "text": [
      "[0, 2, 4, 6, 8, 10, 12, 14, 16, 18, 20, 22, 24]\n",
      "sum =  156\n"
     ]
    }
   ],
   "source": [
    "a=list(range(0,26,2))\n",
    "print(a)\n",
    "s=sum(a)\n",
    "print(\"sum = \",s)"
   ]
  },
  {
   "cell_type": "code",
   "execution_count": null,
   "id": "76d54477",
   "metadata": {},
   "outputs": [],
   "source": []
  }
 ],
 "metadata": {
  "kernelspec": {
   "display_name": "Python 3 (ipykernel)",
   "language": "python",
   "name": "python3"
  },
  "language_info": {
   "codemirror_mode": {
    "name": "ipython",
    "version": 3
   },
   "file_extension": ".py",
   "mimetype": "text/x-python",
   "name": "python",
   "nbconvert_exporter": "python",
   "pygments_lexer": "ipython3",
   "version": "3.11.5"
  }
 },
 "nbformat": 4,
 "nbformat_minor": 5
}
