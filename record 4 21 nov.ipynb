{
 "cells": [
  {
   "cell_type": "markdown", 
   "id": "a8e66f6f",
   "metadata": {},
   "source": [
    "1.Count the occurrences of each word in a line of text.\n",
    " "
   ]
  },
  {
   "cell_type": "code",
   "execution_count": 10,
   "id": "a47c4ad0",
   "metadata": {},
   "outputs": [
    {
     "name": "stdout",
     "output_type": "stream",
     "text": [
      "Enter the text :the food is not good enough\n",
      "{'the': 1, 'not': 1, 'good': 1, 'enough': 1, 'is': 1, 'food': 1}\n"
     ]
    }
   ],
   "source": [
    "text=input(\"Enter the text :\")\n",
    "nl={word:text.split().count(word) for word in set(text.split())}\n",
    "print(nl)"
   ]
  },
  {
   "cell_type": "markdown",
   "id": "41c09f5c",
   "metadata": {},
   "source": [
    "2.Prompt the user for a list of integers values greater than 100, store ‘over'."
   ]
  },
  {
   "cell_type": "code",
   "execution_count": 17,
   "id": "96fa7a8d",
   "metadata": {},
   "outputs": [
    {
     "name": "stdout",
     "output_type": "stream",
     "text": [
      "Enter the numbers :10 110 20 200\n",
      "[10, 'over', 20, 'over']\n"
     ]
    }
   ],
   "source": [
    "n=input(\"Enter the numbers :\")\n",
    "int_list=[int(x) for x in n.split()]\n",
    "mod_list=['over' if x>100 else x for x in int_list]\n",
    "print(mod_list)"
   ]
  },
  {
   "cell_type": "markdown",
   "id": "95b96b6e",
   "metadata": {},
   "source": [
    "3.Store a list of first names,Count ‘a’ within the list.\n"
   ]
  },
  {
   "cell_type": "code",
   "execution_count": 32,
   "id": "dbc9f2f3",
   "metadata": {},
   "outputs": [
    {
     "name": "stdout",
     "output_type": "stream",
     "text": [
      "Enter the names :virat,sanju,abd\n",
      "Total 3 'a' in the names\n"
     ]
    }
   ],
   "source": [
    "name=input(\"Enter the names :\").split(\",\")\n",
    "nl=sum([n.lower().count('a') for n in name])\n",
    "print(f\"Total {nl} 'a' in the names\")\n"
   ]
  },
  {
   "cell_type": "markdown",
   "id": "ea627acf",
   "metadata": {},
   "source": []
  },
  {
   "cell_type": "markdown",
   "id": "f6b8f4bc",
   "metadata": {},
   "source": [
    "4.check two list"
   ]
  },
  {
   "cell_type": "code",
   "execution_count": 48,
   "id": "075ebb3c",
   "metadata": {},
   "outputs": [
    {
     "name": "stdout",
     "output_type": "stream",
     "text": [
      "Enter first list of integers : 1 2 3 4\n",
      "Enter second list of integers : 1 5 4\n",
      "lists are not same length\n",
      "sum of lists is same\n",
      "same number occur in lists\n"
     ]
    }
   ],
   "source": [
    "l1=list(map(int,input(\"Enter first list of integers : \").split()))\n",
    "l2=list(map(int,input(\"Enter second list of integers : \").split()))\n",
    "if len(l1)==len(l2):\n",
    "    print(\"lists are same length\")\n",
    "else:\n",
    "    print(\"lists are not same length\")\n",
    "if sum([x for x in l1])==sum([x for x in l2]):\n",
    "    print(\"sum of lists is same\")\n",
    "else:\n",
    "    print(\"sum of lists is not same\")\n",
    "if any([x in l2 for x in l1]):\n",
    "    print(\"same number occur in lists\")\n",
    "else:\n",
    "    print(\"same number not occur in lists \")\n"
   ]
  },
  {
   "cell_type": "markdown",
   "id": "8a10b301",
   "metadata": {},
   "source": [
    "5.List comprehensions"
   ]
  },
  {
   "cell_type": "code",
   "execution_count": 51,
   "id": "fe9c0da5",
   "metadata": {},
   "outputs": [
    {
     "name": "stdout",
     "output_type": "stream",
     "text": [
      "Enter the numbers : -1 2 3 -4 5\n",
      "positive numbers [2, 3, 5]\n"
     ]
    }
   ],
   "source": [
    "#(a)Generate positive list of numbers\n",
    "\n",
    "n=list(map(int,input(\"Enter the numbers : \").split()))\n",
    "nl=[x for x in n if x>0]\n",
    "print(\"positive numbers\",nl)"
   ]
  },
  {
   "cell_type": "code",
   "execution_count": 55,
   "id": "c2378599",
   "metadata": {},
   "outputs": [
    {
     "name": "stdout",
     "output_type": "stream",
     "text": [
      "Enter the number : 2 3 4\n",
      "square of the number are [4, 9, 16]\n"
     ]
    }
   ],
   "source": [
    "#(b) Square of N numbers \n",
    "\n",
    "num=list(map(int,input(\"Enter the number : \").split()))\n",
    "nl=[n**2 for n in num]\n",
    "print(\"square of the number are\",nl)"
   ]
  },
  {
   "cell_type": "code",
   "execution_count": 65,
   "id": "b4c57c1f",
   "metadata": {},
   "outputs": [
    {
     "name": "stdout",
     "output_type": "stream",
     "text": [
      "Enter the word : aswin\n",
      "vowels in the word is ['a', 'i']\n"
     ]
    }
   ],
   "source": [
    "#(c)list of vowels selected from a given word \n",
    "\n",
    "word=input(\"Enter the word : \")\n",
    "nl=[x for x in word if x.lower() in 'aeiou']\n",
    "print(\"vowels in the word is\",nl)"
   ]
  },
  {
   "cell_type": "code",
   "execution_count": 68,
   "id": "96a09deb",
   "metadata": {},
   "outputs": [
    {
     "name": "stdout",
     "output_type": "stream",
     "text": [
      "Enter the word : aswin\n",
      "ordinary values of word is [97, 115, 119, 105, 110]\n"
     ]
    }
   ],
   "source": [
    "#(d) List ordinal value of each element of a word\n",
    "\n",
    "word=input(\"Enter the word : \")\n",
    "nl=[ord(x) for x in word]\n",
    "print(\"ordinary values of word is\",nl)\n"
   ]
  },
  {
   "cell_type": "code",
   "execution_count": null,
   "id": "93fa59d3",
   "metadata": {},
   "outputs": [],
   "source": []
  }
 ],
 "metadata": {
  "kernelspec": {
   "display_name": "Python 3 (ipykernel)",
   "language": "python",
   "name": "python3"
  },
  "language_info": {
   "codemirror_mode": {
    "name": "ipython",
    "version": 3
   },
   "file_extension": ".py",
   "mimetype": "text/x-python",
   "name": "python",
   "nbconvert_exporter": "python",
   "pygments_lexer": "ipython3",
   "version": "3.11.5"
  }
 },
 "nbformat": 4,
 "nbformat_minor": 5
}
