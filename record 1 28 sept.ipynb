
{
 "cells": [
  {
   "cell_type": "markdown",
   "id": "510ca3a7",
   "metadata": {},
   "source": [
    "1.An integer(n) compute n+nn+nnn"
   ]
  },
  {
   "cell_type": "code",
   "execution_count": 1,
   "id": "8c67faab",
   "metadata": {},
   "outputs": [
    {
     "name": "stdout",
     "output_type": "stream",
     "text": [
      "Enter the number : 4\n",
      "result of  4 + 4 4 + 4 4 4  =  492\n"
     ]
    }
   ],
   "source": [
    "n=input(\"Enter the number : \")\n",
    "r=int(n)+int(n*2)+int(n*3)\n",
    "print(\"result of \" ,n,\"+\",n,n,\"+\",n,n,n,\" = \",r)"
   ]
  },
  {
   "cell_type": "markdown",
   "id": "23dfece8",
   "metadata": {},
   "source": [
    "2.Area of a circle"
   ]
  },
  {
   "cell_type": "code",
   "execution_count": 2,
   "id": "75ff966e",
   "metadata": {},
   "outputs": [
    {
     "name": "stdout",
     "output_type": "stream",
     "text": [
      "Enter the radius : 3\n",
      "Area of circle =  28.27\n"
     ]
    }
   ],
   "source": [
    "import math\n",
    "r=float(input(\"Enter the radius : \"))\n",
    "print(\"Area of circle = \",round(math.pi * r * r,2))"
   ]
  },
  {
   "cell_type": "markdown",
   "id": "e4714cf5",
   "metadata": {},
   "source": [
    "3.Biggest of three numbers"
   ]
  },
  {
   "cell_type": "code",
   "execution_count": 3,
   "id": "cfa22c8e",
   "metadata": {},
   "outputs": [
    {
     "name": "stdout",
     "output_type": "stream",
     "text": [
      "Enter first number : 5\n",
      "Enter second number : 10\n",
      "Enter third number : 15\n",
      "Biggest number =  15.0\n"
     ]
    }
   ],
   "source": [
    "n1=float(input(\"Enter first number : \"))\n",
    "n2=float(input(\"Enter second number : \"))\n",
    "n3=float(input(\"Enter third number : \"))\n",
    "print(\"Biggest number = \",max(n1,n2,n3))"
   ]
  },
  {
   "cell_type": "code",
   "execution_count": null,
   "id": "6173517c",
   "metadata": {},
   "outputs": [],
   "source": []
  }
 ],
 "metadata": {
  "kernelspec": {
   "display_name": "Python 3 (ipykernel)",
   "language": "python",
   "name": "python3"
  },
  "language_info": {
   "codemirror_mode": {
    "name": "ipython",
    "version": 3
   },
   "file_extension": ".py",
   "mimetype": "text/x-python",
   "name": "python",
   "nbconvert_exporter": "python",
   "pygments_lexer": "ipython3",
   "version": "3.11.5"
  }
 },
 "nbformat": 4,
 "nbformat_minor": 5
}
