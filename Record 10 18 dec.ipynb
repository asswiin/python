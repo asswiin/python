{
 "cells": [
  {
   "cell_type": "code",
   "execution_count": 1,
   "id": "7f0df478",
   "metadata": {},
   "outputs": [
    {
     "name": "stdout",
     "output_type": "stream",
     "text": [
      "Enter number : 10\n",
      "Enter number :0\n",
      "Cant divide by zero\n",
      "Executed succesfully\n"
     ]
    }
   ],
   "source": [
    "#handle ZeroDivisionError, ValueError \n",
    "\n",
    "try:\n",
    "    n1=int(input(\"Enter number : \"))\n",
    "    n2=int(input(\"Enter number :\"))\n",
    "    d=n1/n2\n",
    "except ZeroDivisionError:\n",
    "    print(\"Cant divide by zero\")\n",
    "except ValueError:\n",
    "    print(\"invalid input\")\n",
    "else:\n",
    "    print(d)\n",
    "finally:\n",
    "    print(\"Executed succesfully\")"
   ]
  },
  {
   "cell_type": "code",
   "execution_count": null,
   "id": "0a2ecbdc",
   "metadata": {},
   "outputs": [],
   "source": []
  },
  {
   "cell_type": "code",
   "execution_count": null,
   "id": "a3f70310",
   "metadata": {},
   "outputs": [],
   "source": []
  },
  {
   "cell_type": "code",
   "execution_count": null,
   "id": "62e9ffa1",
   "metadata": {},
   "outputs": [],
   "source": []
  },
  {
   "cell_type": "code",
   "execution_count": null,
   "id": "d03073d0",
   "metadata": {},
   "outputs": [],
   "source": []
  },
  {
   "cell_type": "code",
   "execution_count": null,
   "id": "e67492de",
   "metadata": {},
   "outputs": [],
   "source": []
  }
 ],
 "metadata": {
  "kernelspec": {
   "display_name": "Python 3 (ipykernel)",
   "language": "python",
   "name": "python3"
  },
  "language_info": {
   "codemirror_mode": {
    "name": "ipython",
    "version": 3
   },
   "file_extension": ".py",
   "mimetype": "text/x-python",
   "name": "python",
   "nbconvert_exporter": "python",
   "pygments_lexer": "ipython3",
   "version": "3.11.5"
  }
 },
 "nbformat": 4,
 "nbformat_minor": 5
}
