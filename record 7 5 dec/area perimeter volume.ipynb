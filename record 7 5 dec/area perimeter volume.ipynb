
{
 "cells": [
  {
   "cell_type": "code",
   "execution_count": 31, 
   "id": "24e404ce",
   "metadata": {},
   "outputs": [
    {
     "name": "stdout",
     "output_type": "stream",
     "text": [
      " Select any\n",
      " 1.Rectangle\n",
      " 2.circle\n",
      " 3.Cuboid\n",
      " 4.sphere\n",
      " 5.exit\n",
      "Enter your choice : 3\n",
      "Enter the length : 5\n",
      "Enter the width : 1\n",
      "Enter the height : 10\n",
      "volume of cube is :  50.0\n",
      "area of cube is :  130.0\n"
     ]
    }
   ],
   "source": [
    "from graphics.rect import rect_area,rect_perimeter\n",
    "from graphics.circle import circ_area,circ_perimeter\n",
    "from graphics.graphics3d.cuboid import cub_volume,cub_area\n",
    "from graphics.graphics3d.sphere import sphere_area,sphere_volume \n",
    "\n",
    "while(1):\n",
    "    print(\" Select any\\n 1.Rectangle\\n 2.circle\\n 3.Cuboid\\n 4.sphere\\n 5.exit\")\n",
    "    ch=int(input(\"Enter your choice : \"))\n",
    "    if ch==1:\n",
    "        length=float(input(\"Enter the length : \"))\n",
    "        width=float(input(\"Enter the width : \"))\n",
    "        a=rect_area(length,width)\n",
    "        p=rect_perimeter(length,width)\n",
    "        print(\"area of rectangle is : \",a)\n",
    "        print(\"perimeter of rectangle is : \",p)\n",
    "    elif ch==2:\n",
    "        radius=float(input(\"Enter the radius : \"))\n",
    "        area=circ_area(radius)\n",
    "        print(\"Area of the circle is : \",area)\n",
    "    elif ch==3:    \n",
    "        length=float(input(\"Enter the length : \"))\n",
    "        width=float(input(\"Enter the width : \"))\n",
    "        height=float(input(\"Enter the height : \"))\n",
    "        volume=cub_volume(length,width,height)\n",
    "        area=cub_area(length,width,height)\n",
    "        print(\"volume of cube is : \",volume)\n",
    "        print(\"area of cube is : \",area)\n",
    "    elif ch==4:\n",
    "        radius=float(input(\"Enter the radius : \"))\n",
    "        area=sphere_area(radius)\n",
    "        volume=sphere_volume(radius)\n",
    "        print(\"area of sphere is : \",area)\n",
    "        print(\"volume of sphere is : \",volume)\n",
    "    else:\n",
    "        print(\"Exited\")\n",
    "    break;"
   ]
  },
  {
   "cell_type": "code",
   "execution_count": null,
   "id": "4ae2cdc5",
   "metadata": {},
   "outputs": [],
   "source": []
  },
  {
   "cell_type": "code",
   "execution_count": null,
   "id": "271ed5ef",
   "metadata": {},
   "outputs": [],
   "source": []
  },
  {
   "cell_type": "code",
   "execution_count": null,
   "id": "de6a1f55",
   "metadata": {},
   "outputs": [],
   "source": []
  }
 ],
 "metadata": {
  "kernelspec": {
   "display_name": "Python 3 (ipykernel)",
   "language": "python",
   "name": "python3"
  },
  "language_info": {
   "codemirror_mode": {
    "name": "ipython",
    "version": 3
   },
   "file_extension": ".py",
   "mimetype": "text/x-python",
   "name": "python",
   "nbconvert_exporter": "python",
   "pygments_lexer": "ipython3",
   "version": "3.11.5"
  }
 },
 "nbformat": 4,
 "nbformat_minor": 5
}
