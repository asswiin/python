
{
 "cells": [ 
  {
   "cell_type": "code",
   "execution_count": null,
   "id": "3cd80ab0",
   "metadata": {},
   "outputs": [],
   "source": []
  },
  {
   "cell_type": "code",
   "execution_count": 3,
   "id": "8ec34d76",
   "metadata": {},
   "outputs": [
    {
     "name": "stdout",
     "output_type": "stream",
     "text": [
      "Enter email and phone number separted by coma : aswin,Aswin@gmail.com,98765678,9876545678\n",
      "valid email is : \n",
      "valid number is : \n",
      "-9876545678\n"
     ]
    }
   ],
   "source": [
    "#validte email and phone number\n",
    "\n",
    "import re\n",
    "\n",
    "email_pattern=r\"^[a-z]+@+[a-z]+.com$\"\n",
    "number_pattern=r\"^\\+?\\d{0,2}[-\\s]?\\d{10}$\"\n",
    "inputs=input(\"Enter email and phone number separted by coma : \").split(\",\")\n",
    "\n",
    "valid_email=[]\n",
    "valid_number=[]\n",
    "\n",
    "for item in inputs:\n",
    "    if re.match(email_pattern,item):\n",
    "        valid_email.append(item)\n",
    "    elif re.match(number_pattern,item):\n",
    "        valid_number.append(item)\n",
    "print(\"valid email is : \")\n",
    "for email in valid_email:\n",
    "    print(f\"-{email}\")\n",
    "print(\"valid number is : \")\n",
    "for number in valid_number:\n",
    "    print(f\"-{number}\")"
   ]
  },
  {
   "cell_type": "code",
   "execution_count": null,
   "id": "e6468e3b",
   "metadata": {},
   "outputs": [],
   "source": []
  }
 ],
 "metadata": {
  "kernelspec": {
   "display_name": "Python 3 (ipykernel)",
   "language": "python",
   "name": "python3"
  },
  "language_info": {
   "codemirror_mode": {
    "name": "ipython",
    "version": 3
   },
   "file_extension": ".py",
   "mimetype": "text/x-python",
   "name": "python",
   "nbconvert_exporter": "python",
   "pygments_lexer": "ipython3",
   "version": "3.11.5"
  }
 },
 "nbformat": 4,
 "nbformat_minor": 5
}
