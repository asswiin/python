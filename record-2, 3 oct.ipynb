
{
 "cells": [
  {
   "cell_type": "markdown",
   "id": "93cfad7e",
   "metadata": {},
   "source": [
    "1.Convert Celsius to Fahrenheit"
   ]
  },
  {
   "cell_type": "code",
   "execution_count": 1,
   "id": "c5050a71",
   "metadata": {},
   "outputs": [
    {
     "name": "stdout",
     "output_type": "stream",
     "text": [
      "Enter celsius : 25\n",
      "77.0 fahrenheit is equal to 25.0 celsius\n"
     ]
    }
   ],
   "source": [
    "c=float(input(\"Enter celsius : \"))\n",
    "f=c * 9/5 + 32\n",
    "print(f,\"fahrenheit is equal to\",c,\"celsius\")"
   ]
  },
  {
   "cell_type": "markdown",
   "id": "11638955",
   "metadata": {},
   "source": [
    "2.Convert Kilometer to Miles"
   ]
  },
  {
   "cell_type": "code",
   "execution_count": 2,
   "id": "8ef63dce",
   "metadata": {},
   "outputs": [
    {
     "name": "stdout",
     "output_type": "stream",
     "text": [
      "Enter kilometer : 10\n",
      "6.21371 miles is equal to 10.0\n"
     ]
    }
   ],
   "source": [
    "km=float(input(\"Enter kilometer : \"))\n",
    "m=km * 0.621371\n",
    "print(m,\"miles is equal to\",km)"
   ]
  },
  {
   "cell_type": "markdown",
   "id": "9e91b894",
   "metadata": {},
   "source": [
    "3.Find total Average and Final of a Product"
   ]
  },
  {
   "cell_type": "code",
   "execution_count": 8,
   "id": "17f718fd",
   "metadata": {},
   "outputs": [
    {
     "name": "stdout",
     "output_type": "stream",
     "text": [
      "Enter the price of product A : 50\n",
      "Enter the price of product b : 30\n",
      "Enter the price of product C : 20\n",
      "Total price =  100.0\n",
      "Final price : 85.00\n",
      "Average = 33.33\n",
      "A is more expensive than final price : FALSE\n",
      "B is more expensive than final price : FALSE\n",
      "C is more expensive than final price : FALSE\n",
      "Final price is in the range of $50 to $200 : TRUE\n"
     ]
    }
   ],
   "source": [
    "a=float(input(\"Enter the price of product A : \"))\n",
    "b=float(input(\"Enter the price of product b : \"))\n",
    "c=float(input(\"Enter the price of product C : \"))\n",
    "tp=a + b + c\n",
    "print(\"Total price = \",tp)\n",
    "dis=tp * 0.15\n",
    "fp=tp-dis\n",
    "print(f\"Final price : {fp:.2f}\")\n",
    "avg=tp/3\n",
    "print(f\"Average = {avg:.2f}\")\n",
    "\n",
    "if a>fp:\n",
    "    print(\"A is more expensive than final price : TRUE\")\n",
    "else:\n",
    "    print(\"A is more expensive than final price : FALSE\")\n",
    "    \n",
    "if b>fp:\n",
    "    print(\"B is more expensive than final price : TRUE\")\n",
    "else:\n",
    "    print(\"B is more expensive than final price : FALSE\")\n",
    "    \n",
    "if c>fp:\n",
    "    print(\"C is more expensive than final price : TRUE\")\n",
    "else:\n",
    "    print(\"C is more expensive than final price : FALSE\")\n",
    "\n",
    "if fp>=50 and fp<=200:\n",
    "    print(\"Final price is in the range of $50 to $200 : TRUE\")\n",
    "else:\n",
    "    print(\"Final price is in the range of $50 to $200 : FALSE\")\n"
   ]
  },
  {
   "cell_type": "code",
   "execution_count": null,
   "id": "f04fbbb5",
   "metadata": {},
   "outputs": [],
   "source": []
  }
 ],
 "metadata": {
  "kernelspec": {
   "display_name": "Python 3 (ipykernel)",
   "language": "python",
   "name": "python3"
  },
  "language_info": {
   "codemirror_mode": {
    "name": "ipython",
    "version": 3
   },
   "file_extension": ".py",
   "mimetype": "text/x-python",
   "name": "python",
   "nbconvert_exporter": "python",
   "pygments_lexer": "ipython3",
   "version": "3.11.5"
  }
 },
 "nbformat": 4,
 "nbformat_minor": 5
}
