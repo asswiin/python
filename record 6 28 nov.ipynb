{
 "cells": [
  {
   "cell_type": "markdown", 
   "id": "cd04f6c7",
   "metadata": {},
   "source": [
    "1.Display future leap years from current year to a final year entered by user."
   ]
  },
  {
   "cell_type": "code",
   "execution_count": 32,
   "id": "e17783b4",
   "metadata": {},
   "outputs": [
    {
     "name": "stdout",
     "output_type": "stream",
     "text": [
      "Enter the Final year : 2040\n",
      "the leap year from 2024 to 2040 is : \n",
      "2028\n",
      "2032\n",
      "2036\n",
      "2040\n"
     ]
    }
   ],
   "source": [
    "import datetime\n",
    "\n",
    "def leap_year(year):\n",
    "    if(year%4==0 and year%100!=0) or (year%400==0):\n",
    "        return True\n",
    "    return False\n",
    "\n",
    "current_year=datetime.datetime.now().year\n",
    "\n",
    "final_year=int(input(\"Enter the Final year : \"))\n",
    "print(f\"the leap year from {current_year} to {final_year} is : \")\n",
    "\n",
    "for year in range(current_year+1,final_year+1):\n",
    "      if leap_year(year):\n",
    "            print(year)\n"
   ]
  },
  {
   "cell_type": "markdown",
   "id": "0c89ed0a",
   "metadata": {},
   "source": [
    "2.Program to find the factorial of a number."
   ]
  },
  {
   "cell_type": "code",
   "execution_count": 51,
   "id": "54d7ae0c",
   "metadata": {},
   "outputs": [
    {
     "name": "stdout",
     "output_type": "stream",
     "text": [
      "Enter the number : 5\n",
      "factorial of the 5 is : 120\n"
     ]
    }
   ],
   "source": [
    "def factorial(num):\n",
    "    result=1\n",
    "    for i in range(1,num+1):\n",
    "        result*=i\n",
    "    return result\n",
    "number=int(input(\"Enter the number : \"))\n",
    "print(f\"factorial of the {number} is : {factorial(number)}\")"
   ]
  },
  {
   "cell_type": "markdown",
   "id": "f83e20d4",
   "metadata": {},
   "source": [
    "3.Generate Fibonacci series of N terms"
   ]
  },
  {
   "cell_type": "code",
   "execution_count": 9,
   "id": "8a9c5f2c",
   "metadata": {},
   "outputs": [
    {
     "name": "stdout",
     "output_type": "stream",
     "text": [
      "Enter a number : 5\n",
      "fibonacci series is : \n",
      "0\n",
      "1\n",
      "1\n",
      "2\n",
      "3\n",
      "5\n"
     ]
    }
   ],
   "source": [
    "def fibonacci(num):\n",
    "    a=1;b=0;c=0\n",
    "    while(c<=num):\n",
    "        print(c)\n",
    "        c=a+b\n",
    "        a=b\n",
    "        b=c\n",
    "num=int(input(\"Enter a number : \"))\n",
    "print(\"fibonacci series is : \")\n",
    "fibonacci(num)\n",
    "    "
   ]
  },
  {
   "cell_type": "markdown",
   "id": "212cf7aa",
   "metadata": {},
   "source": [
    "4.Accept a list of words and return length of longest word.\n"
   ]
  },
  {
   "cell_type": "code",
   "execution_count": 14,
   "id": "530c3208",
   "metadata": {},
   "outputs": [
    {
     "name": "stdout",
     "output_type": "stream",
     "text": [
      "Enter a list of words : welcome to python\n",
      "longest word in the list is :  welcome\n"
     ]
    }
   ],
   "source": [
    "def long(s):\n",
    "    return max(s,key=len)\n",
    "s=input(\"Enter a list of words : \").split()\n",
    "print(\"longest word in the list is : \",long(s))"
   ]
  },
  {
   "cell_type": "markdown",
   "id": "eb83b002",
   "metadata": {},
   "source": [
    "5.Construct star pattern using nested loop"
   ]
  },
  {
   "cell_type": "code",
   "execution_count": 11,
   "id": "b05bb18f",
   "metadata": {},
   "outputs": [
    {
     "name": "stdout",
     "output_type": "stream",
     "text": [
      "pattern is :\n",
      "*\n",
      "**\n",
      "***\n",
      "****\n",
      "*****\n",
      "****\n",
      "***\n",
      "**\n",
      "*\n"
     ]
    }
   ],
   "source": [
    "n=5\n",
    "print(\"pattern is :\")\n",
    "for i in range(1,n+1):\n",
    "    for j in range(i):\n",
    "        print('*',end='')\n",
    "    print()\n",
    "\n",
    "for i in range(n-1,0,-1):\n",
    "    for j in range(i):\n",
    "        print('*',end='')\n",
    "    print()"
   ]
  },
  {
   "cell_type": "markdown",
   "id": "de3744bf",
   "metadata": {},
   "source": [
    "6.Generate all factors of a number."
   ]
  },
  {
   "cell_type": "code",
   "execution_count": 27,
   "id": "ac42e365",
   "metadata": {},
   "outputs": [
    {
     "name": "stdout",
     "output_type": "stream",
     "text": [
      "Enter a positive integer : 40\n",
      "Factors of 40: [1, 2, 4, 5, 8, 10, 20, 40]\n"
     ]
    }
   ],
   "source": [
    "def generate_factors(n):\n",
    "    factors=[]\n",
    "    for i in range(1,n+1):\n",
    "        if n%i==0:\n",
    "            factors.append(i)\n",
    "    return factors\n",
    "\n",
    "number=int(input(\"Enter a positive integer : \"))\n",
    "factors_of_number=generate_factors(number)\n",
    "print(f\"Factors of {number}: {factors_of_number}\")"
   ]
  },
  {
   "cell_type": "markdown",
   "id": "11f42f01",
   "metadata": {},
   "source": [
    "7.Display pyramid ,number accepted from user."
   ]
  },
  {
   "cell_type": "code",
   "execution_count": 2,
   "id": "df0c423b",
   "metadata": {},
   "outputs": [
    {
     "name": "stdout",
     "output_type": "stream",
     "text": [
      "Enter the number of steps for the pyramid : 4\n",
      "1 \n",
      "2 4 \n",
      "3 6 9 \n",
      "4 8 12 16 \n"
     ]
    }
   ],
   "source": [
    "def print_pyramid(n):\n",
    "    for i in range(1,n+1):\n",
    "        for j in range(1,i+1):\n",
    "            print(i*j,end=' ')\n",
    "        print()\n",
    "n=int(input(\"Enter the number of steps for the pyramid : \"))\n",
    "print_pyramid(n)"
   ]
  },
  {
   "cell_type": "markdown",
   "id": "48bf6550",
   "metadata": {},
   "source": [
    "8.lambda functions to find area of square, rectangle and triangle."
   ]
  },
  {
   "cell_type": "code",
   "execution_count": 4,
   "id": "a1da5fe8",
   "metadata": {},
   "outputs": [
    {
     "name": "stdout",
     "output_type": "stream",
     "text": [
      "Enter the side length of square :4\n",
      "Area of Square: 16.0\n",
      "Enter the  length of rectangle :5\n",
      "Enter the side width  of rectangle :4\n",
      "Area of Rectangle: 20.0\n",
      "Enter the base of triangle :5\n",
      "Enter the height of triangle :4\n",
      "Area of Triangle: 10.0\n"
     ]
    }
   ],
   "source": [
    "area_square = lambda side: side * side\n",
    "area_rectangle = lambda length, width: length * width\n",
    "area_triangle = lambda base, height: 0.5 * base * height\n",
    "\n",
    "side = float(input(\"Enter the side length of square :\"))\n",
    "print(\"Area of Square:\", area_square(side)) \n",
    "\n",
    "length = float(input(\"Enter the  length of rectangle :\"))\n",
    "width = float(input(\"Enter the side width  of rectangle :\"))\n",
    "print(\"Area of Rectangle:\", area_rectangle(length, width))\n",
    "\n",
    "base = float(input(\"Enter the base of triangle :\"))\n",
    "height =float(input(\"Enter the height of triangle :\"))\n",
    "print(\"Area of Triangle:\", area_triangle(base, height))  \n"
   ]
  },
  {
   "cell_type": "code",
   "execution_count": null,
   "id": "de9856d2",
   "metadata": {},
   "outputs": [],
   "source": []
  }
 ],
 "metadata": {
  "kernelspec": {
   "display_name": "Python 3 (ipykernel)",
   "language": "python",
   "name": "python3"
  },
  "language_info": {
   "codemirror_mode": {
    "name": "ipython",
    "version": 3
   },
   "file_extension": ".py",
   "mimetype": "text/x-python",
   "name": "python",
   "nbconvert_exporter": "python",
   "pygments_lexer": "ipython3",
   "version": "3.11.5"
  }
 },
 "nbformat": 4,
 "nbformat_minor": 5
}
