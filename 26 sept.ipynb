{
 "cells": [
  {
   "cell_type": "code",
   "execution_count": 1,
   "id": "185ad825",
   "metadata": {},
   "outputs": [
    {
     "name": "stdout",
     "output_type": "stream",
     "text": [
      "Enter the sides : 6\n",
      "Area of square =  36\n"
     ]
    }
   ],
   "source": [
    "a=int(input(\"Enter the sides : \"))\n",
    "area=a*a\n",
    "print(\"Area of square = \",area)"
   ]
  },
  {
   "cell_type": "code",
   "execution_count": 2,
   "id": "49dcfa81",
   "metadata": {},
   "outputs": [
    {
     "name": "stdout",
     "output_type": "stream",
     "text": [
      "Enter the height : 6\n",
      "Enter the base : 4\n",
      "Area of traingle =  12.0\n"
     ]
    }
   ],
   "source": [
    "h=int(input(\"Enter the height : \"))\n",
    "b=int(input(\"Enter the base : \"))\n",
    "area=h*b/2\n",
    "print(\"Area of traingle = \",area)"
   ]
  },
  {
   "cell_type": "code",
   "execution_count": 3,
   "id": "dfd607a7",
   "metadata": {},
   "outputs": [
    {
     "name": "stdout",
     "output_type": "stream",
     "text": [
      "Enter your name : Aswin\n",
      "Hello Aswin !\n"
     ]
    }
   ],
   "source": [
    "name=input(\"Enter your name : \")\n",
    "print(\"Hello\",name,\"!\")"
   ]
  },
  {
   "cell_type": "code",
   "execution_count": 4,
   "id": "44b1b52b",
   "metadata": {},
   "outputs": [
    {
     "name": "stdout",
     "output_type": "stream",
     "text": [
      "Enter a number : 5\n",
      "previous number =  4\n",
      "next number =  6\n"
     ]
    }
   ],
   "source": [
    "a=int(input(\"Enter a number : \"))\n",
    "p=a-1\n",
    "n=a+1\n",
    "print(\"previous number = \",p)\n",
    "print(\"next number = \",n)"
   ]
  },
  {
   "cell_type": "code",
   "execution_count": 5,
   "id": "e1a157fd",
   "metadata": {},
   "outputs": [
    {
     "name": "stdout",
     "output_type": "stream",
     "text": [
      "principle amount = 10000\n",
      "Rate of interest = 5\n",
      "number of year = 2\n",
      "Simple Interest =  1000.0\n"
     ]
    }
   ],
   "source": [
    "p=int(input(\"principle amount = \"))\n",
    "r=float(input(\"Rate of interest = \"))\n",
    "y=int(input(\"number of year = \"))\n",
    "si=p*r*y/100\n",
    "print(\"Simple Interest = \",si)"
   ]
  },
  {
   "cell_type": "code",
   "execution_count": null,
   "id": "7f2dfa9c",
   "metadata": {},
   "outputs": [],
   "source": []
  }
 ],
 "metadata": {
  "kernelspec": {
   "display_name": "Python 3 (ipykernel)",
   "language": "python",
   "name": "python3"
  },
  "language_info": {
   "codemirror_mode": {
    "name": "ipython",
    "version": 3
   },
   "file_extension": ".py",
   "mimetype": "text/x-python",
   "name": "python",
   "nbconvert_exporter": "python",
   "pygments_lexer": "ipython3",
   "version": "3.11.5"
  }
 },
 "nbformat": 4,
 "nbformat_minor": 5
}
