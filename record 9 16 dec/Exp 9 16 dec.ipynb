{
 "cells": [
  {
   "cell_type": "code", 
   "execution_count": 33,
   "id": "20e729bb",
   "metadata": {},
   "outputs": [
    {
     "name": "stdout",
     "output_type": "stream",
     "text": [
      "['welcome html\\n', 'welcome python\\n', 'welcome java\\n', 'line 1\\n', 'line 2\\n', 'line 3\\n', 'line 4\\n', 'line 5\\n', '\\n']\n"
     ]
    }
   ],
   "source": [
    "#1.read file line by line store it into a list\n",
    "\n",
    "f=open(\"1.txt\",\"r\")\n",
    "print(f.readlines())"
   ]
  },
  {
   "cell_type": "code",
   "execution_count": 37,
   "id": "4d800485",
   "metadata": {},
   "outputs": [
    {
     "name": "stdout",
     "output_type": "stream",
     "text": [
      "Enter the source file: 1.txt\n",
      "Enter destination file: odd.txt\n",
      "Odd lines have been written to odd.txt\n"
     ]
    }
   ],
   "source": [
    "#2.copy odd lines of one file to other\n",
    "\n",
    "file1 = input(\"Enter the source file: \")\n",
    "file2 = input(\"Enter destination file: \")\n",
    "f1 = open(\"1.txt\", \"r\")\n",
    "f2 = open(\"odd.txt\", \"w\")\n",
    "i = 0\n",
    "for line in f1.readlines():\n",
    "    i += 1\n",
    "    if i % 2 != 0:  \n",
    "        f2.write(line)\n",
    "f1.close()\n",
    "f2.close()\n",
    "print(\"Odd lines have been written to\", \"odd.txt\")\n"
   ]
  },
  {
   "cell_type": "code",
   "execution_count": 4,
   "id": "3f505494",
   "metadata": {},
   "outputs": [
    {
     "name": "stdout",
     "output_type": "stream",
     "text": [
      "Enter the file name : frame.csv\n",
      "['1', 'aswin', '22', 'kmct']\n",
      "['2', 'jaseem', '22', 'kmct']\n",
      "['3', 'roshan', '23', 'kmct']\n"
     ]
    }
   ],
   "source": [
    "#3.read each row from csv file and print a list.\n",
    "\n",
    "import csv\n",
    "file=input(\"Enter the file name : \")\n",
    "\n",
    "f1=open(file,\"r\")\n",
    "reader=csv.reader(f1)\n",
    "\n",
    "for row in reader:\n",
    "    print(row)\n",
    "\n",
    "f1.close()"
   ]
  },
  {
   "cell_type": "code",
   "execution_count": 10,
   "id": "3bf88f1e",
   "metadata": {},
   "outputs": [
    {
     "name": "stdout",
     "output_type": "stream",
     "text": [
      "Enter CSV file name : frame.csv\n",
      "Enter the column indices : 0,1\n",
      "['1', 'abc']\n",
      "['2', 'xyz']\n",
      "['3', 'pqr']\n"
     ]
    }
   ],
   "source": [
    "#4.read specific columns CSV file and print the content of the columns. \n",
    "\n",
    "import csv\n",
    "\n",
    "f=input(\"Enter CSV file name : \")\n",
    "col_input=input(\"Enter the column indices : \")\n",
    "col_to_read=[int(index) for index in col_input.split(',')]\n",
    "\n",
    "f1=open(f,\"r\")\n",
    "reader=csv.reader(f1)\n",
    "\n",
    "for row in reader:\n",
    "    sel_col=[row[i] for i in col_to_read if i<len(row)]\n",
    "    print(sel_col)"
   ]
  },
  {
   "cell_type": "code",
   "execution_count": 12,
   "id": "875d70a5",
   "metadata": {},
   "outputs": [
    {
     "name": "stdout",
     "output_type": "stream",
     "text": [
      "Enter names : anu,manu,ram\n",
      "Enter salary : 10000,15000,20000\n",
      "Data written to salary.csv\n",
      "['Name', 'salary']\n",
      "['anu', '10000']\n",
      "['manu', '15000']\n",
      "['ram', '20000']\n"
     ]
    }
   ],
   "source": [
    "#4.write a Python dictionary to a csv file,read the CSV file and display\n",
    "\n",
    "import csv\n",
    "\n",
    "name=input(\"Enter names : \").split(',')\n",
    "salary=input(\"Enter salary : \").split(',')\n",
    "\n",
    "d=dict(zip(name,salary))\n",
    "\n",
    "cf=\"salary.csv\"\n",
    "f=open(cf,'w',newline='')\n",
    "writer=csv.writer(f)\n",
    "writer.writerow([\"Name\",\"salary\"])\n",
    "\n",
    "for key,value in d.items():\n",
    "    writer.writerow([key,value])\n",
    "f.close()\n",
    "\n",
    "print(f\"Data written to {cf}\")\n",
    "\n",
    "f=open(cf,'r')\n",
    "reader=csv.reader(f)\n",
    "for row in reader:\n",
    "    print(row)\n",
    "f.close()\n"
   ]
  },
  {
   "cell_type": "code",
   "execution_count": null,
   "id": "81ffff39",
   "metadata": {},
   "outputs": [],
   "source": []
  },
  {
   "cell_type": "code",
   "execution_count": null,
   "id": "62dbb870",
   "metadata": {},
   "outputs": [],
   "source": []
  }
 ],
 "metadata": {
  "kernelspec": {
   "display_name": "Python 3 (ipykernel)",
   "language": "python",
   "name": "python3"
  },
  "language_info": {
   "codemirror_mode": {
    "name": "ipython",
    "version": 3
   },
   "file_extension": ".py",
   "mimetype": "text/x-python",
   "name": "python",
   "nbconvert_exporter": "python",
   "pygments_lexer": "ipython3",
   "version": "3.11.5"
  }
 },
 "nbformat": 4,
 "nbformat_minor": 5
}
