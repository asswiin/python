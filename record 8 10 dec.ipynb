{
 "cells": [
  {
   "cell_type": "markdown", 
   "id": "522b2daa",
   "metadata": {},
   "source": [
    "1.Create Rectangle class with attributes length and breadth and methods to find area and perimeter. Compare two Rectangle objects by their area. "
   ]
  },
  {
   "cell_type": "code",
   "execution_count": 7,
   "id": "7f703bd2",
   "metadata": {},
   "outputs": [
    {
     "name": "stdout",
     "output_type": "stream",
     "text": [
      "Enter the length of the first rectangle : 5\n",
      "Enter the breadth of the first rectangle : 4\n",
      "Enter the length of the second rectangle : 10\n",
      "Enter the breadth of the second rectangle : 8\n",
      "Rectangle 1 Area is :  20.0 and Perimeter is :  18.0\n",
      "Rectangle 2 Area is :  80.0 and Perimeter is :  36.0\n",
      "rectangle 2 is greater\n"
     ]
    }
   ],
   "source": [
    "class rectangle:\n",
    "    def __init__(self,length,breadth):\n",
    "        self.length=length\n",
    "        self.breadth=breadth\n",
    "        \n",
    "    def area(self):\n",
    "        return self.length*self.breadth\n",
    "    \n",
    "    def perimeter(self):\n",
    "        return 2*(self.length+self.breadth)\n",
    "\n",
    "len1=float(input(\"Enter the length of the first rectangle : \"))\n",
    "bre1=float(input(\"Enter the breadth of the first rectangle : \"))\n",
    "rect1=rectangle(len1,bre1)\n",
    "\n",
    "len2=float(input(\"Enter the length of the second rectangle : \"))\n",
    "bre2=float(input(\"Enter the breadth of the second rectangle : \"))\n",
    "rect2=rectangle(len2,bre2)\n",
    "\n",
    "area_1=rect1.area()\n",
    "perimeter_1=rect1.perimeter()\n",
    "\n",
    "area_2=rect2.area()\n",
    "perimeter_2=rect2.perimeter()\n",
    "\n",
    "print(\"Rectangle 1 Area is : \",area_1,\"and Perimeter is : \",perimeter_1)\n",
    "print(\"Rectangle 2 Area is : \",area_2,\"and Perimeter is : \",perimeter_2)\n",
    "\n",
    "if area_1==area_2:\n",
    "    print(\"Both Rectangles have the same area\")\n",
    "elif area_1>area_2:\n",
    "    print(\"reactangle 1 is greater\")\n",
    "else:\n",
    "    print(\"rectangle 2 is greater\")"
   ]
  },
  {
   "cell_type": "markdown",
   "id": "0d23767b",
   "metadata": {},
   "source": [
    "2.Create a Bank account with members account number, name, type of account and balance. Write constructor and methods to deposit at the bank and withdraw an amount from the bank. "
   ]
  },
  {
   "cell_type": "code",
   "execution_count": 10,
   "id": "0de40b67",
   "metadata": {},
   "outputs": [
    {
     "name": "stdout",
     "output_type": "stream",
     "text": [
      "Enter name: Aswin\n",
      "Enter account number: 2002\n",
      "Enter account type: savings\n",
      "Enter initial balance: 2000\n",
      "1. Deposit 2. Withdraw 3. Account Info 4. Exit\n",
      "Choose your option: 1\n",
      "Deposit amount: 1000\n",
      "Initial balance: 2000\n",
      "1000 is deposited\n",
      "Current balance: 3000\n",
      "1. Deposit 2. Withdraw 3. Account Info 4. Exit\n",
      "Choose your option: 3\n",
      "Account holder Name: Aswin\n",
      "Account Number: 2002\n",
      "Account Type: savings\n",
      "Account Balance: 3000\n",
      "1. Deposit 2. Withdraw 3. Account Info 4. Exit\n",
      "Choose your option: 2\n",
      "Withdraw amount: 500\n",
      "Initial balance: 3000\n",
      "500 is withdrawn\n",
      "Current balance: 2500\n",
      "1. Deposit 2. Withdraw 3. Account Info 4. Exit\n",
      "Choose your option: 4\n",
      "Exiting...\n"
     ]
    }
   ],
   "source": [
    "class BankAccount:\n",
    "    def __init__(self, a_name, a_no, a_type, a_balance):\n",
    "        self.acc_name = a_name\n",
    "        self.acc_no = a_no\n",
    "        self.acc_type = a_type\n",
    "        self.acc_balance = a_balance\n",
    "\n",
    "    def deposit(self, a_deposit):\n",
    "        print(f\"Initial balance: {self.acc_balance}\")\n",
    "        self.acc_balance += a_deposit\n",
    "        print(f\"{a_deposit} is deposited\")\n",
    "        print(f\"Current balance: {self.acc_balance}\")\n",
    "\n",
    "    def withdraw(self, amount):\n",
    "        print(f\"Initial balance: {self.acc_balance}\")\n",
    "        if amount > self.acc_balance:\n",
    "            print(\"You don't have enough balance to withdraw!!\")\n",
    "            print(f\"Current balance: {self.acc_balance}\")\n",
    "        else:\n",
    "            print(f\"{amount} is withdrawn\")\n",
    "            self.acc_balance -= amount\n",
    "            print(f\"Current balance: {self.acc_balance}\")\n",
    "\n",
    "    def acc_info(self):\n",
    "        print(f\"Account holder Name: {self.acc_name}\")\n",
    "        print(f\"Account Number: {self.acc_no}\")\n",
    "        print(f\"Account Type: {self.acc_type}\")\n",
    "        print(f\"Account Balance: {self.acc_balance}\")\n",
    "\n",
    "\n",
    "\n",
    "name = input(\"Enter name: \")\n",
    "no = int(input(\"Enter account number: \"))\n",
    "type = input(\"Enter account type: \")\n",
    "bal = int(input(\"Enter initial balance: \"))\n",
    "holder = BankAccount(name, no, type, bal)\n",
    "\n",
    "\n",
    "while True:\n",
    "    try:\n",
    "        ch = int(input(\"1. Deposit 2. Withdraw 3. Account Info 4. Exit\\nChoose your option: \"))\n",
    "        \n",
    "        if ch == 1:\n",
    "            amount = int(input(\"Deposit amount: \"))\n",
    "            holder.deposit(amount)\n",
    "\n",
    "        elif ch == 2:\n",
    "            amount = int(input(\"Withdraw amount: \"))\n",
    "            holder.withdraw(amount)\n",
    "\n",
    "        elif ch == 3:\n",
    "            holder.acc_info()\n",
    "\n",
    "        elif ch == 4:\n",
    "            print(\"Exiting...\")\n",
    "            break\n",
    "\n",
    "        else:\n",
    "            print(\"Invalid choice. Please enter a valid option (1-4).\")\n",
    "\n",
    "    except ValueError:\n",
    "        print(\"Invalid input. Please enter a number.\")\n"
   ]
  },
  {
   "cell_type": "markdown",
   "id": "751ff7fd",
   "metadata": {},
   "source": [
    "3.Create a class Rectangle with private attributes length and width. Overload ‘<’ operator to compare the area of 2 rectangles "
   ]
  },
  {
   "cell_type": "code",
   "execution_count": 4,
   "id": "842e460a",
   "metadata": {},
   "outputs": [
    {
     "name": "stdout",
     "output_type": "stream",
     "text": [
      "Enter length of rectangle1: 10\n",
      "Enter width of rectangle1: 5\n",
      "Enter length of rectangle12: 5\n",
      "Enter width of rectangle2: 10\n",
      "rectangle 2 is greater\n"
     ]
    }
   ],
   "source": [
    "class rectangle:\n",
    "    def __init__(self,l,w):\n",
    "        self.length=l\n",
    "        self.width=w\n",
    "        self.a=l*w\n",
    "    def __gt__(self,other):\n",
    "        if self.a < other.a:\n",
    "            print(\"rectangle 1 is greater\")\n",
    "        else:\n",
    "            print(\"rectangle 2 is greater\")\n",
    "l1=int(input(\"Enter length of rectangle1: \"))\n",
    "w1=int(input(\"Enter width of rectangle1: \"))\n",
    "l2=int(input(\"Enter length of rectangle12: \"))\n",
    "w2=int(input(\"Enter width of rectangle2: \"))\n",
    "\n",
    "r1=rectangle(l1,w1)\n",
    "r2=rectangle(l2,w2)\n",
    "r1<r2"
   ]
  },
  {
   "cell_type": "markdown",
   "id": "9508d752",
   "metadata": {},
   "source": [
    "4.Create a class Time with private attributes hour, minute and second. Overload ‘+’ operator to find sum of 2 time. \n"
   ]
  },
  {
   "cell_type": "code",
   "execution_count": 25,
   "id": "8cbc5d79",
   "metadata": {},
   "outputs": [
    {
     "name": "stdout",
     "output_type": "stream",
     "text": [
      "Enter hour 1 : 12\n",
      "enter minute 1 : 30\n",
      "enter second 1 : 30\n",
      "Enter hour2 : 13\n",
      "enter minute2 : 30\n",
      "enter second2 : 30\n",
      "Added time..\n",
      " Hour:  26 Minute:  1 Second:  0\n"
     ]
    }
   ],
   "source": [
    "class time:\n",
    "    def __init__(self,hr,mint,sec):\n",
    "        self.__h=hr\n",
    "        self.__m=mint\n",
    "        self.__s=sec\n",
    "    def __add__(self,other):\n",
    "        hh=self.__h+other.__h\n",
    "        ss=self.__s+other.__s\n",
    "        mm=self.__m+other.__m\n",
    "        if (ss>=60):\n",
    "            m=int(ss/60)\n",
    "            ss=ss%60\n",
    "            mm+=m\n",
    "\n",
    "        if (mm>=60):\n",
    "            h=int(mm/60)\n",
    "            mm=mm%60\n",
    "            hh+=h\n",
    "            print(\"Added time..\\n Hour: \",hh, \"Minute: \", mm,\"Second: \",ss)\n",
    "h1=int(input(\"Enter hour 1 : \"))\n",
    "m1=int(input(\"enter minute 1 : \"))\n",
    "s1=int(input(\"enter second 1 : \"))\n",
    "h2=int(input(\"Enter hour2 : \"))\n",
    "m2=int(input(\"enter minute2 : \"))\n",
    "s2=int(input(\"enter second2 : \"))\n",
    "t1=time(h1,m1,s1)\n",
    "t2=time(h2,m2,s2)\n",
    "t1+t2"
   ]
  },
  {
   "cell_type": "markdown",
   "id": "c5df5811",
   "metadata": {},
   "source": [
    " "
   ]
  },
  {
   "cell_type": "markdown",
   "id": "52225d73",
   "metadata": {},
   "source": [
    "5.Create a class Publisher (name). Derive class Book from Publisher with attributes title and author. Derive class Python from Book with attributes price and no_of_pages. Write a program that displays information about a Python book. Use base class constructor invocation and method overriding."
   ]
  },
  {
   "cell_type": "code",
   "execution_count": 29,
   "id": "9f5d783b",
   "metadata": {},
   "outputs": [
    {
     "name": "stdout",
     "output_type": "stream",
     "text": [
      "Enter publisher name: Bantam Books \n",
      "Enter book name: The song of ice and fire\n",
      "Enter author name: George R. R. Martin\n",
      "Enter rate of book: 2000\n",
      "Enter no. of pages: 10000\n",
      "Book details \n",
      "Publisher name= Bantam Books \n",
      "Title= The song of ice and fire\n",
      "Author George R. R. Martin\n",
      "Rate= 2000\n",
      "No. of pages= 10000\n"
     ]
    }
   ],
   "source": [
    "class publisher:\n",
    "    def __init__(self,pname):\n",
    "        self.pubname=pname\n",
    "    def display1(self):\n",
    "        print(\"Book details \\nPublisher name=\",self.pubname)\n",
    "class book(publisher):\n",
    "    def __init__(self,pname,bname,author):\n",
    "        self.title=bname\n",
    "        self.auth=author\n",
    "        publisher.__init__(self,pname)\n",
    "    def display2(self):\n",
    "        print(\"Title=\",self.title)\n",
    "        print(\"Author\",self.auth)\n",
    "\n",
    "class python(book):\n",
    "    def __init__(self,pname,title,au,price,np):\n",
    "        self.rate=price\n",
    "        self.nop=np\n",
    "        book.__init__(self,pname,title,au)\n",
    "    def display3(self):\n",
    "        print(\"Rate=\",self.rate)\n",
    "        print(\"No. of pages=\", self.nop)\n",
    "p=input(\"Enter publisher name: \")\n",
    "b=input(\"Enter book name: \")\n",
    "a=input(\"Enter author name: \")\n",
    "r=int(input(\"Enter rate of book: \"))\n",
    "n=int(input(\"Enter no. of pages: \"))\n",
    "a=python(p,b,a,r,n)\n",
    "a.display1()\n",
    "a.display2()\n",
    "a.display3()"
   ]
  },
  {
   "cell_type": "code",
   "execution_count": null,
   "id": "cebdae64",
   "metadata": {},
   "outputs": [],
   "source": []
  },
  {
   "cell_type": "code",
   "execution_count": null,
   "id": "85c7e5bc",
   "metadata": {},
   "outputs": [],
   "source": []
  }
 ],
 "metadata": {
  "kernelspec": {
   "display_name": "Python 3 (ipykernel)",
   "language": "python",
   "name": "python3"
  },
  "language_info": {
   "codemirror_mode": {
    "name": "ipython",
    "version": 3
   },
   "file_extension": ".py",
   "mimetype": "text/x-python",
   "name": "python",
   "nbconvert_exporter": "python",
   "pygments_lexer": "ipython3",
   "version": "3.11.5"
  }
 },
 "nbformat": 4,
 "nbformat_minor": 5
}
