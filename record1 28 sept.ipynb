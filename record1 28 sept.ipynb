{
 "cells": [
  {
   "cell_type": "code",
   "execution_count": 1,
   "id": "bb8fed7d",
   "metadata": {},
   "outputs": [
    {
     "name": "stdout",
     "output_type": "stream",
     "text": [
      "Enter the number : 3\n",
      "result =  369\n"
     ]
    }
   ],
   "source": [
    "n=input(\"Enter the number : \")\n",
    "r=int(n)+int(n*2)+int(n*3)\n",
    "print(\"result = \",r)"
   ]
  },
  {
   "cell_type": "code",
   "execution_count": null,
   "id": "68399df6",
   "metadata": {},
   "outputs": [],
   "source": [
    "import math\n",
    "r=float(input(\"Enter the radius : \"))\n",
    "print(\"Area of circle = \",round(math.pi * r * r,2))"
   ]
  },
  {
   "cell_type": "code",
   "execution_count": 5,
   "id": "87e94994",
   "metadata": {},
   "outputs": [
    {
     "name": "stdout",
     "output_type": "stream",
     "text": [
      "Enter first number : 5\n",
      "Enter second number : 10\n",
      "Enter third number : 15\n",
      "Biggest number =  15.0\n"
     ]
    }
   ],
   "source": [
    "n1=float(input(\"Enter first number : \"))\n",
    "n2=float(input(\"Enter second number : \"))\n",
    "n3=float(input(\"Enter third number : \"))\n",
    "print(\"Biggest number = \",max(n1,n2,n3))"
   ]
  },
  {
   "cell_type": "code",
   "execution_count": null,
   "id": "fb41b49b",
   "metadata": {},
   "outputs": [],
   "source": []
  }
 ],
 "metadata": {
  "kernelspec": {
   "display_name": "Python 3 (ipykernel)",
   "language": "python",
   "name": "python3"
  },
  "language_info": {
   "codemirror_mode": {
    "name": "ipython",
    "version": 3
   },
   "file_extension": ".py",
   "mimetype": "text/x-python",
   "name": "python",
   "nbconvert_exporter": "python",
   "pygments_lexer": "ipython3",
   "version": "3.11.5"
  }
 },
 "nbformat": 4,
 "nbformat_minor": 5
}
