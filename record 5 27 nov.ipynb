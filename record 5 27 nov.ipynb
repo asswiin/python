{
 "cells": [
  {
   "cell_type": "markdown", 
   "id": "9f1a6ab8",
   "metadata": {},
   "source": [
    "1.gcd of 2 numbers"
   ]
  },
  {
   "cell_type": "code",
   "execution_count": 2,
   "id": "96df1385",
   "metadata": {},
   "outputs": [
    {
     "name": "stdout",
     "output_type": "stream",
     "text": [
      "Enter first number : 12 \n",
      "Enter second number : 40\n",
      "gcd of the numbers is : 4\n"
     ]
    }
   ],
   "source": [
    "n1=int(input(\"Enter first number : \"))\n",
    "n2=int(input(\"Enter second number : \"))\n",
    "if n1<n2:\n",
    "    n1,n2=n2,n1\n",
    "while n2!=0:\n",
    "    n1,n2=n2,n1%n2\n",
    "print(\"gcd of the numbers is :\",n1)"
   ]
  },
  {
   "cell_type": "markdown",
   "id": "6a07853b",
   "metadata": {},
   "source": [
    "2.create a list removing even numbers\n"
   ]
  },
  {
   "cell_type": "code",
   "execution_count": 14,
   "id": "36b670c8",
   "metadata": {},
   "outputs": [
    {
     "name": "stdout",
     "output_type": "stream",
     "text": [
      "Enter numbers : 1 2 3 4 5 6\n",
      "list removing even number [1, 3, 5]\n"
     ]
    }
   ],
   "source": [
    "l=list(map(int,input(\"Enter numbers : \").split()))\n",
    "odd=[]\n",
    "for i in l:\n",
    "    if i%2!=0:\n",
    "        odd.append(i)\n",
    "print(\"list removing even number\",odd)"
   ]
  },
  {
   "cell_type": "markdown",
   "id": "014a3510",
   "metadata": {},
   "source": [
    "3.sum of all items in a list"
   ]
  },
  {
   "cell_type": "code",
   "execution_count": 28,
   "id": "f5e829ec",
   "metadata": {},
   "outputs": [
    {
     "name": "stdout",
     "output_type": "stream",
     "text": [
      "Enter the number :1 2 3 4 5 \n",
      "sum of numbers in list :  15\n"
     ]
    }
   ],
   "source": [
    "l=list(map(int,input(\"Enter the number :\").split()))\n",
    "sum=0\n",
    "for i in l:\n",
    "    sum+=i\n",
    "print(\"sum of numbers in list : \",sum)"
   ]
  },
  {
   "cell_type": "markdown",
   "id": "b94282a6",
   "metadata": {},
   "source": [
    "4.A list 4 digit numbers range with all their digit and perfect sqaure"
   ]
  },
  {
   "cell_type": "code",
   "execution_count": 29,
   "id": "79658420",
   "metadata": {},
   "outputs": [
    {
     "name": "stdout",
     "output_type": "stream",
     "text": [
      "Enter the starting range : 1000\n",
      "Enter the ending range : 9999\n",
      "The perfect sqaure even numbers in the range : \n",
      "4624\n",
      "6084\n",
      "6400\n",
      "8464\n"
     ]
    }
   ],
   "source": [
    "import math\n",
    "start=int(input(\"Enter the starting range : \"))\n",
    "end=int(input(\"Enter the ending range : \"))\n",
    "print(\"The perfect sqaure even numbers in the range : \")\n",
    "for num in range(start,end+1):\n",
    "    if all(int(digit)%2==0 for digit in str(num)):\n",
    "        root=int(math.sqrt(num))\n",
    "        if root*root==num:\n",
    "            print(num)"
   ]
  },
  {
   "cell_type": "markdown",
   "id": "cea384f0",
   "metadata": {},
   "source": [
    "5.Count the number of characters (character frequency) in a string.\n"
   ]
  },
  {
   "cell_type": "code",
   "execution_count": 50,
   "id": "88c482af",
   "metadata": {},
   "outputs": [
    {
     "name": "stdout",
     "output_type": "stream",
     "text": [
      "Enter the string : hello\n",
      "character frequency in a string is :\n",
      "h : 1\n",
      "e : 1\n",
      "l : 2\n",
      "o : 1\n"
     ]
    }
   ],
   "source": [
    "s=input(\"Enter the string : \")\n",
    "print(\"character frequency in a string is :\")\n",
    "count=[]\n",
    "for i in s:\n",
    "    if i in count:\n",
    "        continue\n",
    "    count.append(i)\n",
    "    print(i,\":\",s.count(i))"
   ]
  },
  {
   "cell_type": "markdown",
   "id": "fbf72e18",
   "metadata": {},
   "source": [
    "6.Add ‘ing’ at the end of a given string. If it already ends with ‘ing’, then add ‘ly’\n"
   ]
  },
  {
   "cell_type": "code",
   "execution_count": 49,
   "id": "03a5b107",
   "metadata": {},
   "outputs": [
    {
     "name": "stdout",
     "output_type": "stream",
     "text": [
      "Enter the string : driv\n",
      "Modified string :driving"
     ]
    }
   ],
   "source": [
    "s=input(\"Enter the string : \")\n",
    "print(\"Modified string :\",end=\"\")\n",
    "if s.endswith('ing'):\n",
    "    print(s+'ly',end=\"\")\n",
    "else:\n",
    "    print(s+'ing',end=\"\")"
   ]
  },
  {
   "cell_type": "code",
   "execution_count": null,
   "id": "e4220af9",
   "metadata": {},
   "outputs": [],
   "source": []
  }
 ],
 "metadata": {
  "kernelspec": {
   "display_name": "Python 3 (ipykernel)",
   "language": "python",
   "name": "python3"
  },
  "language_info": {
   "codemirror_mode": {
    "name": "ipython",
    "version": 3
   },
   "file_extension": ".py",
   "mimetype": "text/x-python",
   "name": "python",
   "nbconvert_exporter": "python",
   "pygments_lexer": "ipython3",
   "version": "3.11.5"
  }
 },
 "nbformat": 4,
 "nbformat_minor": 5
}
